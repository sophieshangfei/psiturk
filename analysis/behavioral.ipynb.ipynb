{
 "cells": [
  {
   "cell_type": "code",
   "execution_count": 1,
   "metadata": {},
   "outputs": [],
   "source": [
    "%matplotlib inline\n",
    "%load_ext autoreload\n",
    "%autoreload 2\n",
    "\n",
    "import matplotlib.pyplot as plt\n",
    "import numpy as np\n",
    "import pandas as pd\n",
    "import seaborn as sns\n",
    "sns.set_context('notebook', font_scale=1.3)"
   ]
  },
  {
   "cell_type": "markdown",
   "metadata": {},
   "source": [
    "# Load data"
   ]
  },
  {
   "cell_type": "code",
   "execution_count": 2,
   "metadata": {},
   "outputs": [],
   "source": [
    "VERSION = 1.0\n",
    "df = pd.read_csv(f'../data/human/{VERSION}/robot.csv').set_index('pid')\n",
    "pdf = pd.read_csv(f'../data/human/{VERSION}/participants.csv').set_index('pid')\n",
    "slider = pd.read_csv(f'../data/human/{VERSION}/slider.csv').set_index('pid')\n",
    "\n",
    "pdf['condition'] = (~pdf.number.isna()).astype(int)\n",
    "df['condition'] = pdf.condition\n",
    "slider['condition'] = pdf.condition\n",
    "\n",
    "# df['completed'] = pdf.completed\n",
    "# df.completed = df.completed.fillna(False)\n",
    "# pdf = pdf.query('completed')\n",
    "# df = df.query('completed')"
   ]
  },
  {
   "cell_type": "markdown",
   "metadata": {},
   "source": [
    "# Land guesses"
   ]
  },
  {
   "cell_type": "code",
   "execution_count": 3,
   "metadata": {},
   "outputs": [
    {
     "data": {
      "text/plain": [
       "<seaborn.axisgrid.FacetGrid at 0x10d8f37b8>"
      ]
     },
     "execution_count": 3,
     "metadata": {},
     "output_type": "execute_result"
    },
    {
     "data": {
      "image/png": "[encoded data removed]",
      "text/plain": [
       "<matplotlib.figure.Figure at 0x108b84b00>"
      ]
     },
     "metadata": {},
     "output_type": "display_data"
    }
   ],
   "source": [
    "df = df.query('response != \"b\"')  # this shouldn't be possible\n",
    "df['guess_rare'] = df.response == 'k'\n",
    "sns.factorplot('condition', 'guess_rare', data=df)"
   ]
  },
  {
   "cell_type": "markdown",
   "metadata": {},
   "source": [
    "# Correlation judgements"
   ]
  },
  {
   "cell_type": "code",
   "execution_count": 7,
   "metadata": {},
   "outputs": [
    {
     "data": {
      "text/plain": [
       "<seaborn.axisgrid.FacetGrid at 0x10ff95630>"
      ]
     },
     "execution_count": 7,
     "metadata": {},
     "output_type": "execute_result"
    },
    {
     "data": {
      "image/png": "[encoded data removed]",
      "text/plain": [
       "<matplotlib.figure.Figure at 0x10ff954a8>"
      ]
     },
     "metadata": {},
     "output_type": "display_data"
    }
   ],
   "source": [
    "yellow_frequency = slider.reset_index().set_index(['tag', 'pid']).responses\n",
    "pdf['difference'] = yellow_frequency.loc['kizik'] - yellow_frequency.loc['daxby']\n",
    "sns.factorplot('condition', 'difference', data=pdf, kind='swarm')"
   ]
  },
  {
   "cell_type": "markdown",
   "metadata": {},
   "source": [
    "# Memory task"
   ]
  },
  {
   "cell_type": "code",
   "execution_count": 9,
   "metadata": {},
   "outputs": [
    {
     "data": {
      "text/plain": [
       "pid\n",
       "0      True\n",
       "1      True\n",
       "2     False\n",
       "3     False\n",
       "4      True\n",
       "5     False\n",
       "6     False\n",
       "7      True\n",
       "8      True\n",
       "9      True\n",
       "10     True\n",
       "11     True\n",
       "12    False\n",
       "13     True\n",
       "14    False\n",
       "15    False\n",
       "16    False\n",
       "17    False\n",
       "18    False\n",
       "19    False\n",
       "20    False\n",
       "21    False\n",
       "22    False\n",
       "23    False\n",
       "24    False\n",
       "25     True\n",
       "26     True\n",
       "27    False\n",
       "28    False\n",
       "29     True\n",
       "30    False\n",
       "31     True\n",
       "32    False\n",
       "33     True\n",
       "34     True\n",
       "35    False\n",
       "36    False\n",
       "37     True\n",
       "Name: difference, dtype: bool"
      ]
     },
     "execution_count": 9,
     "metadata": {},
     "output_type": "execute_result"
    }
   ],
   "source": [
    "pff['gue'] = abs(pdf.difference) > 10"
   ]
  },
  {
   "cell_type": "code",
   "execution_count": 124,
   "metadata": {},
   "outputs": [
    {
     "data": {
      "text/plain": [
       "pid\n",
       "0                           [0815371, 0815371, 0815371]\n",
       "1                                                    []\n",
       "2                           [0824884, 0824884, 0824884]\n",
       "3                                                    []\n",
       "4                                                    []\n",
       "5                           [1444584, 1444584, 1444584]\n",
       "6                           [7099211, 7099211, 7099211]\n",
       "7                                                    []\n",
       "8     [5014685501468550146855014685, 8654, 501468550...\n",
       "9                           [3566913, 3566913, 3566913]\n",
       "10                                                   []\n",
       "11                           [2674619, 267419, 2674619]\n",
       "12                          [9388760, 9388760, 9388760]\n",
       "13                                                   []\n",
       "14                          [2765740, 2765740, 2765740]\n",
       "15                          [4909386, 4909386, 4909386]\n",
       "16                          [2908832, 2908832, 2908832]\n",
       "17                          [2785174, 2785174, 2785174]\n",
       "18                                                   []\n",
       "20                                                   []\n",
       "21                          [4923816, 4923816, 4923816]\n",
       "22                                                   []\n",
       "23                          [2952100, 2952100, 2952100]\n",
       "24                                                   []\n",
       "25                          [6489151, 6489151, 6489151]\n",
       "26                                                   []\n",
       "27                        [3968845, 38659975, 39688742]\n",
       "28                                                   []\n",
       "29                                                   []\n",
       "30                          [5874092, 5874092, 5874092]\n",
       "31                                                   []\n",
       "32                           [8814821, 884182, 8814821]\n",
       "33                          [9442065, 9446325, 9442065]\n",
       "34                                                   []\n",
       "35                                                   []\n",
       "36                          [1111846, 1111846, 1111846]\n",
       "Name: guesses, dtype: object"
      ]
     },
     "execution_count": 124,
     "metadata": {},
     "output_type": "execute_result"
    }
   ],
   "source": [
    "from ast import literal_eval\n",
    "pdf.guesses.dropna().apply(lambda x: literal_eval(x.replace(r'\\n', '').replace(' ', '')))"
   ]
  }
 ],
 "metadata": {
  "anaconda-cloud": {},
  "kernelspec": {
   "display_name": "Python 3",
   "language": "python",
   "name": "python3"
  },
  "language_info": {
   "codemirror_mode": {
    "name": "ipython",
    "version": 3
   },
   "file_extension": ".py",
   "mimetype": "text/x-python",
   "name": "python",
   "nbconvert_exporter": "python",
   "pygments_lexer": "ipython3",
   "version": "3.6.3"
  },
  "nav_menu": {},
  "toc": {
   "navigate_menu": true,
   "number_sections": true,
   "sideBar": true,
   "threshold": 6,
   "toc_cell": false,
   "toc_section_display": "block",
   "toc_window_display": false
  }
 },
 "nbformat": 4,
 "nbformat_minor": 1
}
